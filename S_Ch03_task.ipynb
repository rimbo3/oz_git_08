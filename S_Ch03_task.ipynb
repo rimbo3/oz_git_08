{
 "cells": [
  {
   "cell_type": "markdown",
   "metadata": {},
   "source": [
    "<span style=\"font-size:100%\">\n",
    "\n",
    "수업은 모두 열심히 들으셨나요?\n",
    "\n",
    "간혹 강의에서 언급되지 않은 내용이 문제로 나올 수 있습니다.<br>\n",
    "그럴땐 강의 내용 외 문제는 구글링을 통해 해결해주세요<br></span>\n",
    "<span style=\"font-size:80%\">\n",
    "(구글링 또한 개발자가 갖쳐야할 역량 중에 하나랍니다 😊)\n",
    "</span>\n",
    "\n",
    "---"
   ]
  },
  {
   "cell_type": "markdown",
   "metadata": {},
   "source": [
    "<span style=\"font-size:80%\">[문제1]<br><br></span>\n",
    "```주로 작성 중인 코드의 끝을 알리는 기호로 사용되며 파이썬에서 한 줄에 작성된 서로 다른 코드를 구분 지을 때 사용할 수 있는 기호를 골라주세요```\n",
    "\n",
    "1. ' , ' (쉼표)\n",
    "2. ' + ' (더하기 기호)\n",
    "3. ' ; ' (세미콜론)\n",
    "4. ' / ' (슬래시)"
   ]
  },
  {
   "cell_type": "markdown",
   "metadata": {},
   "source": [
    "<span style=\"color:red\">답변</span> : 1번 쉼표"
   ]
  },
  {
   "cell_type": "markdown",
   "metadata": {},
   "source": []
  },
  {
   "cell_type": "markdown",
   "metadata": {},
   "source": [
    "----"
   ]
  },
  {
   "cell_type": "markdown",
   "metadata": {},
   "source": [
    "<span style=\"font-size:80%\">[문제2]<br><br></span>\n",
    "```Python의 PEP 8은 무엇인지 설명하고 PEP 8의 핵심적인 규칙을 1개 이상을 설명해주세요```"
   ]
  },
  {
   "cell_type": "markdown",
   "metadata": {},
   "source": [
    "<span style=\"color:red\">답변</span> **EP 8은 Python Enhancement Proposal의 약자로, 파이썬 코드를 어떻게 구조화하고 형식화할 것인지에 대한 스타일 가이드입니다. 이 가이드는 파이썬 코드의 가독성을 높이고, 파이썬 개발자 간의 일관성을 유지하기 위해 만들어졌습니다.**\n",
    "\n",
    "**PEP 8의 핵심적인 규칙 중 한가지는 들여쓰기 입니다.\n",
    "들여쓰기: 들여쓰기는 공백 4개를 사용합니다. 탭 대신 공백을 사용하는 것이 권장됩니다.**\n",
    "\n",
    "그 외 핵심 규치 3가지는 아래와 같습니다.\n",
    "\n",
    "1. 라인 길이: 한 줄의 최대 길이는 79자입니다. 이는 코드를 작은 화면에서도 읽기 쉽게 하기 위한 규칙입니다.\n",
    "2. 공백: 괄호, 중괄호, 또는 대괄호를 여는 뒤, 닫기 전에는 공백을 넣지 않습니다. 쉼표, 세미콜론, 콜론을 쓴 뒤에는, 그러나 그 앞에는 공백을 넣습니다.\n",
    "3. 주석: 주석은 항상 최신 상태를 유지하고, 불필요한 주석은 피해야 합니다. 또한, 주석은 한 줄 주석과 블록 주석 모두 간결하게 작성해야 합니다.\n",
    "\n",
    "위의 규칙들은 PEP 8의 일부에 불과하며, 더 많은 규칙과 세부 사항들이 PEP 8 문서에 포함되어 있습니다. \n",
    "\n",
    "이 규칙들을 따르는 것은 파이썬 커뮤니티에서 일반적으로 기대되는 행동이지만, 특정 상황에서는 가이드라인을 일부 무시하는 것이 더 합리적일 수도 있습니다. \n",
    "\n",
    "PEP 8 자체도 이를 인정하며, \"규칙을 깨뜨리는 것이 아름답다면, 규칙을 깨뜨리세요.\"라는 가이드를 제공합니다."
   ]
  },
  {
   "cell_type": "markdown",
   "metadata": {},
   "source": []
  },
  {
   "cell_type": "markdown",
   "metadata": {},
   "source": [
    "----"
   ]
  },
  {
   "cell_type": "markdown",
   "metadata": {},
   "source": [
    "<span style=\"font-size:80%\">[문제3]<br><br></span>\n",
    "```Python에서 \"#\"이 의마하는 것은 무엇인지 설명해주세요```"
   ]
  },
  {
   "cell_type": "markdown",
   "metadata": {},
   "source": [
    "<span style=\"color:red\">답변</span>"
   ]
  },
  {
   "cell_type": "markdown",
   "metadata": {},
   "source": [
    "주석"
   ]
  },
  {
   "cell_type": "markdown",
   "metadata": {},
   "source": [
    "----"
   ]
  },
  {
   "cell_type": "markdown",
   "metadata": {},
   "source": [
    "<span style=\"font-size:80%\">[문제4]<br><br></span>\n",
    "```Python의 들여쓰기 장점과 기능에 대해 설명해주세요```"
   ]
  },
  {
   "cell_type": "markdown",
   "metadata": {},
   "source": [
    "<span style=\"color:red\">답변</span> 시작을 하고 난 이후 들여쓰기를 하면 시인적인 요소가 향상된다. 몇 칸 띄어서 코드를 쓰니 블럭처럼 보이는 것을 방지해준다."
   ]
  },
  {
   "cell_type": "markdown",
   "metadata": {},
   "source": []
  },
  {
   "cell_type": "markdown",
   "metadata": {},
   "source": [
    "----"
   ]
  },
  {
   "cell_type": "markdown",
   "metadata": {},
   "source": [
    "<span style=\"font-size:80%\">[문제5]<br><br></span>\n",
    "```print( )문의 기능 및 특징에 대해 설명해주세요```"
   ]
  },
  {
   "cell_type": "markdown",
   "metadata": {},
   "source": [
    "<span style=\"color:red\">답변</span>"
   ]
  },
  {
   "cell_type": "code",
   "execution_count": null,
   "metadata": {
    "vscode": {
     "languageId": "plaintext"
    }
   },
   "outputs": [],
   "source": [
    "print() 문은 화면에서 출력해 보이는 부분을 설정할 수 있다. 특징으로는 print 문을 작성하고 end를 넣어 작성하면 한줄 더 띄어쓰기는 물론이고 한줄도 띄지 않을 수 있다"
   ]
  },
  {
   "cell_type": "markdown",
   "metadata": {},
   "source": []
  }
 ],
 "metadata": {
  "language_info": {
   "name": "python"
  }
 },
 "nbformat": 4,
 "nbformat_minor": 2
}
